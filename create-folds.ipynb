{
 "cells": [
  {
   "cell_type": "markdown",
   "id": "dc9c211a",
   "metadata": {
    "papermill": {
     "duration": 0.004273,
     "end_time": "2024-06-16T19:34:59.831836",
     "exception": false,
     "start_time": "2024-06-16T19:34:59.827563",
     "status": "completed"
    },
    "tags": []
   },
   "source": [
    "# Set Environment"
   ]
  },
  {
   "cell_type": "code",
   "execution_count": 1,
   "id": "9d96ca9c",
   "metadata": {
    "execution": {
     "iopub.execute_input": "2024-06-16T19:34:59.841047Z",
     "iopub.status.busy": "2024-06-16T19:34:59.840624Z",
     "iopub.status.idle": "2024-06-16T19:35:08.633912Z",
     "shell.execute_reply": "2024-06-16T19:35:08.632769Z"
    },
    "papermill": {
     "duration": 8.800965,
     "end_time": "2024-06-16T19:35:08.636627",
     "exception": false,
     "start_time": "2024-06-16T19:34:59.835662",
     "status": "completed"
    },
    "tags": []
   },
   "outputs": [
    {
     "name": "stderr",
     "output_type": "stream",
     "text": [
      "/opt/conda/lib/python3.10/site-packages/scipy/__init__.py:146: UserWarning: A NumPy version >=1.16.5 and <1.23.0 is required for this version of SciPy (detected version 1.23.5\n",
      "  warnings.warn(f\"A NumPy version >={np_minversion} and <{np_maxversion}\"\n",
      "/opt/conda/lib/python3.10/site-packages/tensorflow_io/python/ops/__init__.py:98: UserWarning: unable to load libtensorflow_io_plugins.so: unable to open file: libtensorflow_io_plugins.so, from paths: ['/opt/conda/lib/python3.10/site-packages/tensorflow_io/python/ops/libtensorflow_io_plugins.so']\n",
      "caused by: ['/opt/conda/lib/python3.10/site-packages/tensorflow_io/python/ops/libtensorflow_io_plugins.so: undefined symbol: _ZN3tsl6StatusC1EN10tensorflow5error4CodeESt17basic_string_viewIcSt11char_traitsIcEENS_14SourceLocationE']\n",
      "  warnings.warn(f\"unable to load libtensorflow_io_plugins.so: {e}\")\n",
      "/opt/conda/lib/python3.10/site-packages/tensorflow_io/python/ops/__init__.py:104: UserWarning: file system plugins are not loaded: unable to open file: libtensorflow_io.so, from paths: ['/opt/conda/lib/python3.10/site-packages/tensorflow_io/python/ops/libtensorflow_io.so']\n",
      "caused by: ['/opt/conda/lib/python3.10/site-packages/tensorflow_io/python/ops/libtensorflow_io.so: undefined symbol: _ZTVN10tensorflow13GcsFileSystemE']\n",
      "  warnings.warn(f\"file system plugins are not loaded: {e}\")\n"
     ]
    }
   ],
   "source": [
    "import numpy as np\n",
    "import tensorflow as tf\n",
    "import os\n",
    "\n",
    "import pickle\n",
    "import numpy as np\n",
    "\n",
    "from sklearn.utils import shuffle"
   ]
  },
  {
   "cell_type": "markdown",
   "id": "0d32b16c",
   "metadata": {
    "papermill": {
     "duration": 0.003879,
     "end_time": "2024-06-16T19:35:08.644790",
     "exception": false,
     "start_time": "2024-06-16T19:35:08.640911",
     "status": "completed"
    },
    "tags": []
   },
   "source": [
    "# Set Seed for Reproducibility"
   ]
  },
  {
   "cell_type": "code",
   "execution_count": 2,
   "id": "b7b5c56a",
   "metadata": {
    "execution": {
     "iopub.execute_input": "2024-06-16T19:35:08.654333Z",
     "iopub.status.busy": "2024-06-16T19:35:08.653609Z",
     "iopub.status.idle": "2024-06-16T19:35:08.659938Z",
     "shell.execute_reply": "2024-06-16T19:35:08.658925Z"
    },
    "papermill": {
     "duration": 0.013645,
     "end_time": "2024-06-16T19:35:08.662196",
     "exception": false,
     "start_time": "2024-06-16T19:35:08.648551",
     "status": "completed"
    },
    "tags": []
   },
   "outputs": [],
   "source": [
    "def set_seed(seed=21019):\n",
    "    np.random.seed(seed)\n",
    "    tf.random.set_seed(seed)\n",
    "    os.environ['PYTHONHASHSEED'] = str(seed)\n",
    "    os.environ['TF_DETERMINISTIC_OPS'] = '1'\n",
    "set_seed()"
   ]
  },
  {
   "cell_type": "markdown",
   "id": "fdacd5e0",
   "metadata": {
    "papermill": {
     "duration": 0.003896,
     "end_time": "2024-06-16T19:35:08.669971",
     "exception": false,
     "start_time": "2024-06-16T19:35:08.666075",
     "status": "completed"
    },
    "tags": []
   },
   "source": [
    "# Load data"
   ]
  },
  {
   "cell_type": "code",
   "execution_count": 3,
   "id": "7a3ea05f",
   "metadata": {
    "execution": {
     "iopub.execute_input": "2024-06-16T19:35:08.679330Z",
     "iopub.status.busy": "2024-06-16T19:35:08.678951Z",
     "iopub.status.idle": "2024-06-16T19:35:18.611823Z",
     "shell.execute_reply": "2024-06-16T19:35:18.610540Z"
    },
    "papermill": {
     "duration": 9.94041,
     "end_time": "2024-06-16T19:35:18.614278",
     "exception": false,
     "start_time": "2024-06-16T19:35:08.673868",
     "status": "completed"
    },
    "tags": []
   },
   "outputs": [
    {
     "name": "stdout",
     "output_type": "stream",
     "text": [
      "Loading data ...\n",
      "Samples in Dataset: 8108\n",
      "Class Unidentifiable: 2845 samples\n",
      "Class Type 1: 1087 samples\n",
      "Class Type 2: 2822 samples\n",
      "Class Type 3: 1354 samples\n"
     ]
    }
   ],
   "source": [
    "print('Loading data ...')\n",
    "with open('/kaggle/input/revised-data-array/data_array.pkl', 'rb') as f:\n",
    "    loaded_data = pickle.load(f)\n",
    "\n",
    "X = loaded_data['X']\n",
    "y = loaded_data['y']\n",
    "\n",
    "print(f'Samples in Dataset: {len(y)}')\n",
    "\n",
    "# Define class names\n",
    "class_names = ['Unidentifiable', 'Type 1', 'Type 2', 'Type 3']\n",
    "\n",
    "# Define the input shape\n",
    "input_shape = X[0].shape\n",
    "\n",
    "# Number of classes\n",
    "num_classes = len(class_names)\n",
    "\n",
    "# Class-wise sample count in the dataset\n",
    "class_counts = np.bincount(y)\n",
    "for class_idx, count in enumerate(class_counts):\n",
    "    print(f'Class {class_names[class_idx]}: {count} samples')"
   ]
  },
  {
   "cell_type": "markdown",
   "id": "5ce03bc0",
   "metadata": {
    "papermill": {
     "duration": 0.003857,
     "end_time": "2024-06-16T19:35:18.622291",
     "exception": false,
     "start_time": "2024-06-16T19:35:18.618434",
     "status": "completed"
    },
    "tags": []
   },
   "source": [
    "# Create Folds"
   ]
  },
  {
   "cell_type": "code",
   "execution_count": 4,
   "id": "4f09a646",
   "metadata": {
    "execution": {
     "iopub.execute_input": "2024-06-16T19:35:18.632010Z",
     "iopub.status.busy": "2024-06-16T19:35:18.631300Z",
     "iopub.status.idle": "2024-06-16T19:35:20.552624Z",
     "shell.execute_reply": "2024-06-16T19:35:20.551204Z"
    },
    "papermill": {
     "duration": 1.928879,
     "end_time": "2024-06-16T19:35:20.555118",
     "exception": false,
     "start_time": "2024-06-16T19:35:18.626239",
     "status": "completed"
    },
    "tags": []
   },
   "outputs": [
    {
     "name": "stdout",
     "output_type": "stream",
     "text": [
      "Split 1:\n",
      "  X shape: (1623, 256, 256, 3)\n",
      "  y shape: (1623,)\n",
      "  y class distribution: [569 218 565 271]\n",
      "Split 2:\n",
      "  X shape: (1623, 256, 256, 3)\n",
      "  y shape: (1623,)\n",
      "  y class distribution: [569 218 565 271]\n",
      "Split 3:\n",
      "  X shape: (1621, 256, 256, 3)\n",
      "  y shape: (1621,)\n",
      "  y class distribution: [569 217 564 271]\n",
      "Split 4:\n",
      "  X shape: (1621, 256, 256, 3)\n",
      "  y shape: (1621,)\n",
      "  y class distribution: [569 217 564 271]\n",
      "Split 5:\n",
      "  X shape: (1620, 256, 256, 3)\n",
      "  y shape: (1620,)\n",
      "  y class distribution: [569 217 564 270]\n"
     ]
    }
   ],
   "source": [
    "# Set the seed for reproducibility\n",
    "set_seed()\n",
    "\n",
    "# Define the number of splits\n",
    "n_splits = 5\n",
    "\n",
    "# Shuffle the dataset while maintaining class distribution\n",
    "X_shuffled, y_shuffled = shuffle(X, y, random_state=21019)\n",
    "\n",
    "# Initialize lists for splits\n",
    "X_splits = [[] for _ in range(n_splits)]\n",
    "y_splits = [[] for _ in range(n_splits)]\n",
    "\n",
    "# Sort data by class\n",
    "unique_classes = np.unique(y)\n",
    "for cls in unique_classes:\n",
    "    cls_indices = np.where(y_shuffled == cls)[0]\n",
    "    np.random.shuffle(cls_indices)\n",
    "    split_cls_indices = np.array_split(cls_indices, n_splits)\n",
    "    for i in range(n_splits):\n",
    "        X_splits[i].extend(X_shuffled[split_cls_indices[i]])\n",
    "        y_splits[i].extend(y_shuffled[split_cls_indices[i]])\n",
    "\n",
    "# Convert lists to numpy arrays\n",
    "X_splits = [np.array(X_split) for X_split in X_splits]\n",
    "y_splits = [np.array(y_split) for y_split in y_splits]\n",
    "\n",
    "# Unpack splits for convenience\n",
    "X1, X2, X3, X4, X5 = X_splits\n",
    "y1, y2, y3, y4, y5 = y_splits\n",
    "\n",
    "# Print summary of splits\n",
    "for i, (X_split, y_split) in enumerate(zip(X_splits, y_splits), start=1):\n",
    "    print(f\"Split {i}:\")\n",
    "    print(f\"  X shape: {X_split.shape}\")\n",
    "    print(f\"  y shape: {y_split.shape}\")\n",
    "    print(f\"  y class distribution: {np.bincount(y_split)}\")"
   ]
  },
  {
   "cell_type": "markdown",
   "id": "53b69794",
   "metadata": {
    "papermill": {
     "duration": 0.004114,
     "end_time": "2024-06-16T19:35:20.563510",
     "exception": false,
     "start_time": "2024-06-16T19:35:20.559396",
     "status": "completed"
    },
    "tags": []
   },
   "source": [
    "# Save Folds"
   ]
  },
  {
   "cell_type": "code",
   "execution_count": 5,
   "id": "97bc5073",
   "metadata": {
    "execution": {
     "iopub.execute_input": "2024-06-16T19:35:20.573128Z",
     "iopub.status.busy": "2024-06-16T19:35:20.572770Z",
     "iopub.status.idle": "2024-06-16T19:35:23.575396Z",
     "shell.execute_reply": "2024-06-16T19:35:23.574133Z"
    },
    "papermill": {
     "duration": 3.010346,
     "end_time": "2024-06-16T19:35:23.577965",
     "exception": false,
     "start_time": "2024-06-16T19:35:20.567619",
     "status": "completed"
    },
    "tags": []
   },
   "outputs": [
    {
     "name": "stdout",
     "output_type": "stream",
     "text": [
      "Saving data splits ...\n",
      "Data splits saved successfully.\n"
     ]
    }
   ],
   "source": [
    "# Prepare data to save\n",
    "folds = {\n",
    "    'X1': X1,\n",
    "    'X2': X2,\n",
    "    'X3': X3,\n",
    "    'X4': X4,\n",
    "    'X5': X5,\n",
    "    'y1': y1,\n",
    "    'y2': y2,\n",
    "    'y3': y3,\n",
    "    'y4': y4,\n",
    "    'y5': y5\n",
    "}\n",
    "\n",
    "# Save data splits using pickle\n",
    "print(\"Saving data splits ...\")\n",
    "with open('folds.pkl', 'wb') as file:\n",
    "    pickle.dump(folds, file)\n",
    "\n",
    "print(\"Data splits saved successfully.\")"
   ]
  }
 ],
 "metadata": {
  "kaggle": {
   "accelerator": "none",
   "dataSources": [
    {
     "sourceId": 160930493,
     "sourceType": "kernelVersion"
    }
   ],
   "dockerImageVersionId": 30529,
   "isGpuEnabled": false,
   "isInternetEnabled": true,
   "language": "python",
   "sourceType": "notebook"
  },
  "kernelspec": {
   "display_name": "Python 3",
   "language": "python",
   "name": "python3"
  },
  "language_info": {
   "codemirror_mode": {
    "name": "ipython",
    "version": 3
   },
   "file_extension": ".py",
   "mimetype": "text/x-python",
   "name": "python",
   "nbconvert_exporter": "python",
   "pygments_lexer": "ipython3",
   "version": "3.10.12"
  },
  "papermill": {
   "default_parameters": {},
   "duration": 37.985977,
   "end_time": "2024-06-16T19:35:26.387951",
   "environment_variables": {},
   "exception": null,
   "input_path": "__notebook__.ipynb",
   "output_path": "__notebook__.ipynb",
   "parameters": {},
   "start_time": "2024-06-16T19:34:48.401974",
   "version": "2.4.0"
  }
 },
 "nbformat": 4,
 "nbformat_minor": 5
}
